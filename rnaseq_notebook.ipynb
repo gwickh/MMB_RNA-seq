{
 "cells": [
  {
   "cell_type": "markdown",
   "metadata": {},
   "source": [
    "# RNA-seq training 03/12/2024"
   ]
  },
  {
   "cell_type": "markdown",
   "metadata": {},
   "source": [
    "## Materials"
   ]
  },
  {
   "cell_type": "markdown",
   "metadata": {},
   "source": [
    "RNA-seq\n",
    "\n",
    "Paper describing the data:\n",
    "\n",
    "https://pubmed.ncbi.nlm.nih.gov/30899034/\n",
    "\n",
    "Full list of samples:\n",
    "\n",
    "https://trace.ncbi.nlm.nih.gov/Traces/study/?acc=SRP132189&o=acc_s%3Aa&s=SRR6671775,SRR6671776,SRR6671777,SRR6671757,SRR6671758,SRR6671759 \n",
    "\n",
    "\n",
    "reference genome:\n",
    "\n",
    "https://www.ncbi.nlm.nih.gov/assembly/GCA_015534855.1 \n",
    "\n",
    "\n",
    "\n",
    "\n",
    "\n",
    "\n"
   ]
  },
  {
   "cell_type": "markdown",
   "metadata": {},
   "source": [
    "## Setup"
   ]
  },
  {
   "cell_type": "code",
   "execution_count": null,
   "metadata": {
    "vscode": {
     "languageId": "shellscript"
    }
   },
   "outputs": [],
   "source": [
    "mkdir rna_seq_2024\n",
    "cd rna_seq_2024"
   ]
  },
  {
   "cell_type": "code",
   "execution_count": null,
   "metadata": {
    "vscode": {
     "languageId": "shellscript"
    }
   },
   "outputs": [],
   "source": [
    "# Check conda and python are installed on your machine\n",
    "conda list"
   ]
  },
  {
   "cell_type": "code",
   "execution_count": null,
   "metadata": {
    "vscode": {
     "languageId": "shellscript"
    }
   },
   "outputs": [],
   "source": [
    "# if conda is not found, download with: \n",
    "wget https://repo.anaconda.com/miniconda/Miniconda3-py39_4.12.0-Linux-x86_64.sh\n",
    "\n",
    "sha256sum Miniconda3-py39_4.12.0-Linux-x86_64.sh                       # you should see a long hash code if conda has been downloaded correctly\n",
    "bash Miniconda3-py39_4.12.0-Linux-x86_64.sh -b -p $HOME/miniconda      # follow the instructions to install, close and reopen your command line when finished"
   ]
  },
  {
   "cell_type": "code",
   "execution_count": null,
   "metadata": {
    "vscode": {
     "languageId": "shellscript"
    }
   },
   "outputs": [],
   "source": [
    "# Create a conda environment to store RNA-seq tools\n",
    "conda create -y -n rnaseq "
   ]
  },
  {
   "cell_type": "markdown",
   "metadata": {},
   "source": [
    "## Get data from SRA server"
   ]
  },
  {
   "cell_type": "code",
   "execution_count": null,
   "metadata": {
    "vscode": {
     "languageId": "shellscript"
    }
   },
   "outputs": [],
   "source": [
    "# Install SRA toolkit to conda env\n",
    "conda install -n rnaseq -y sra-tools -c bioconda\n",
    "conda list -n rnaseq"
   ]
  },
  {
   "cell_type": "code",
   "execution_count": null,
   "metadata": {
    "vscode": {
     "languageId": "shellscript"
    }
   },
   "outputs": [],
   "source": [
    "# Create directory for raw reads\n",
    "mkdir raw_reads\n",
    "cd raw_reads"
   ]
  },
  {
   "cell_type": "code",
   "execution_count": null,
   "metadata": {
    "vscode": {
     "languageId": "shellscript"
    }
   },
   "outputs": [],
   "source": [
    "# Obtain fastq files from Sequence Read Archive\n",
    "for file in SRR6671757 SRR6671758 SRR6671759 SRR6671775 SRR6671776 SRR6671777; do\n",
    "    conda run -n rnaseq fasterq-dump $file\n",
    "    echo $file\n",
    "done"
   ]
  },
  {
   "cell_type": "code",
   "execution_count": null,
   "metadata": {
    "vscode": {
     "languageId": "shellscript"
    }
   },
   "outputs": [],
   "source": [
    "# Zip reads\n",
    "gzip *.fastq"
   ]
  },
  {
   "cell_type": "markdown",
   "metadata": {},
   "source": [
    "## Read Quality Control"
   ]
  },
  {
   "cell_type": "code",
   "execution_count": null,
   "metadata": {
    "vscode": {
     "languageId": "shellscript"
    }
   },
   "outputs": [],
   "source": [
    "# Install FastQC and MultiQC to conda env\n",
    "conda install -y fastqc multiqc -c bioconda"
   ]
  },
  {
   "cell_type": "code",
   "execution_count": null,
   "metadata": {
    "vscode": {
     "languageId": "shellscript"
    }
   },
   "outputs": [],
   "source": [
    "# Return to home directory and make new dir for fastQC reports\n",
    "cd ..\n",
    "mkdir qc_reports"
   ]
  },
  {
   "cell_type": "code",
   "execution_count": null,
   "metadata": {
    "vscode": {
     "languageId": "shellscript"
    }
   },
   "outputs": [],
   "source": [
    "# Generate a fastQC report for each file\n",
    "for file in raw_reads/*.fastq.gz; do\n",
    "    fastqc $file -o qc_reports/\n",
    "done"
   ]
  },
  {
   "cell_type": "code",
   "execution_count": null,
   "metadata": {
    "vscode": {
     "languageId": "shellscript"
    }
   },
   "outputs": [],
   "source": [
    "# Aggregate reports with MultiQC\n",
    "multiqc qc_reports/"
   ]
  },
  {
   "cell_type": "markdown",
   "metadata": {},
   "source": [
    "## Read Filtering"
   ]
  },
  {
   "cell_type": "code",
   "execution_count": null,
   "metadata": {
    "vscode": {
     "languageId": "shellscript"
    }
   },
   "outputs": [],
   "source": [
    "# Install trimmomatic to conda env\n",
    "conda install -n rnaseq -y trimmomatic -c bioconda"
   ]
  },
  {
   "cell_type": "code",
   "execution_count": null,
   "metadata": {
    "vscode": {
     "languageId": "shellscript"
    }
   },
   "outputs": [],
   "source": [
    "# Return to home directory and make new dir for trimmed reads\n",
    "mkdir trimmed_paired trimmed_unpaired\n",
    "wget https://raw.githubusercontent.com/gwickh/MMB_RNA-seq/refs/heads/main/NexteraPE-PE.fa\n"
   ]
  },
  {
   "cell_type": "code",
   "execution_count": null,
   "metadata": {
    "vscode": {
     "languageId": "shellscript"
    }
   },
   "outputs": [],
   "source": [
    "# Trim reads with trimmomatic\n",
    "for infile in raw_reads/*_1.fastq.gz; do\n",
    "    base=$(basename ${infile} _1.fastq.gz)\n",
    "    trimmomatic PE \\\n",
    "        ${infile} raw_reads/${base}_2.fastq.gz \\\n",
    "        trimmed_paired/${base}_1-trimmed-paired.fastq.gz trimmed_unpaired/${base}_1-trimmed-unpaired.fastq.gz \\\n",
    "        trimmed_paired/${base}_2-trimmed-paired.fastq.gz trimmed_unpaired/${base}_2-trimmed-unpaired.fastq.gz \\\n",
    "        ILLUMINACLIP:NexteraPE-PE.fa:2:30:10 LEADING:3 TRAILING:3 MINLEN:36 SLIDINGWINDOW:4:15\n",
    "    echo ${base};\n",
    "done"
   ]
  },
  {
   "cell_type": "markdown",
   "metadata": {},
   "source": [
    "## Read Alignment"
   ]
  },
  {
   "cell_type": "code",
   "execution_count": null,
   "metadata": {
    "vscode": {
     "languageId": "shellscript"
    }
   },
   "outputs": [],
   "source": [
    "# Install bowtie2 to conda env\n",
    "conda install -n rnaseq -y bowtie2 -c bioconda"
   ]
  },
  {
   "cell_type": "code",
   "execution_count": 27,
   "metadata": {
    "vscode": {
     "languageId": "shellscript"
    }
   },
   "outputs": [],
   "source": [
    "# Make new directory for alignments\n",
    "mkdir aligned_reads alignment_index"
   ]
  },
  {
   "cell_type": "code",
   "execution_count": null,
   "metadata": {
    "vscode": {
     "languageId": "shellscript"
    }
   },
   "outputs": [],
   "source": [
    "# Download a reference genome to the bowtie2-alignment directory and and build a bowtie index \n",
    "curl https://ftp.ncbi.nlm.nih.gov/genomes/all/GCA/015/534/855/GCA_015534855.1_ASM1553485v1/GCA_015534855.1_ASM1553485v1_cds_from_genomic.fna.gz -o ecoli_K12_ref.fna.gz\n",
    "gunzip ecoli_K12_ref.fna\n",
    "bowtie2-build ecoli_K12_ref.fna alignment_index/ecoli_K12_ref"
   ]
  },
  {
   "cell_type": "code",
   "execution_count": null,
   "metadata": {
    "vscode": {
     "languageId": "shellscript"
    }
   },
   "outputs": [],
   "source": [
    "# Align reads against reference using Bowtie2\n",
    "for infile in trimmed_paired/*1-trimmed-paired.fastq.gz; do\n",
    "    base=$(basename ${infile} _1-trimmed-paired.fastq.gz)\n",
    "    bowtie2 -x alignment_index/ecoli_K12_ref \\\n",
    "        -1 ${infile} -2 trimmed_paired/${base}_2-trimmed-paired.fastq.gz \\\n",
    "        -S aligned_reads/${base}.sam\n",
    "    echo ${base};\n",
    "done"
   ]
  },
  {
   "cell_type": "markdown",
   "metadata": {},
   "source": [
    "## Alignment-Free Read Quantification"
   ]
  },
  {
   "cell_type": "code",
   "execution_count": null,
   "metadata": {
    "vscode": {
     "languageId": "shellscript"
    }
   },
   "outputs": [],
   "source": [
    "# Install salmon to conda env\n",
    "conda install -n rnaseq -y salmon -c bioconda"
   ]
  },
  {
   "cell_type": "code",
   "execution_count": null,
   "metadata": {
    "vscode": {
     "languageId": "shellscript"
    }
   },
   "outputs": [],
   "source": [
    "# Make new directory for read quantification\n",
    "mkdir quantified_transcripts"
   ]
  },
  {
   "cell_type": "code",
   "execution_count": null,
   "metadata": {
    "vscode": {
     "languageId": "shellscript"
    }
   },
   "outputs": [],
   "source": [
    "# Build Salmon index \n",
    "curl https://ftp.ncbi.nlm.nih.gov/genomes/all/GCA/015/534/855/GCA_015534855.1_ASM1553485v1/GCA_015534855.1_ASM1553485v1_cds_from_genomic.fna.gz -o ecoli_K12_ref.fna.gz\n",
    "gunzip ecoli_K12_ref.fna\n",
    "salmon index -t ecoli_K12_ref.fna -i ecoli_K12_ref"
   ]
  },
  {
   "cell_type": "code",
   "execution_count": null,
   "metadata": {
    "vscode": {
     "languageId": "shellscript"
    }
   },
   "outputs": [],
   "source": [
    "# Perform alignment-free read quantification\n",
    "for infile in trimmed_paired/*_1-trimmed-paired.fastq.gz; do\n",
    "    base=$(basename ${infile} _1-trimmed-paired.fastq.gz);\n",
    "    salmon quant --libType A \\\n",
    "        -i ecoli_K12_ref \\\n",
    "        -o quantified_transcripts/${base} \\\n",
    "        -p 8 \\\n",
    "        --validateMappings \\\n",
    "        -1 ${infile} -2 trimmed_paired/${base}_2-trimmed-paired.fastq.gz\n",
    "    echo ${infile};\n",
    "done\n",
    "\n",
    "# You now have a quantified transcriptome for each sample. \n",
    "# Open the .sf files in a text editor to inspect the calculated expression of each gene."
   ]
  },
  {
   "cell_type": "code",
   "execution_count": null,
   "metadata": {
    "vscode": {
     "languageId": "shellscript"
    }
   },
   "outputs": [],
   "source": [
    "# For performing read quantification with .sam files\n",
    "for filename in aligned_reads/*.sam; do\n",
    "    salmon quant --libType A \\\n",
    "        -t ecoli_K12_ref.fna  \\\n",
    "        -a $filename \\\n",
    "        -o quantified_transcripts/$(basename ${filename} .sam)_quant;\n",
    "    echo $filename;\n",
    "done"
   ]
  }
 ],
 "metadata": {
  "kernelspec": {
   "display_name": "Bash",
   "language": "bash",
   "name": "bash"
  },
  "language_info": {
   "codemirror_mode": "shell",
   "file_extension": ".sh",
   "mimetype": "text/x-sh",
   "name": "bash"
  }
 },
 "nbformat": 4,
 "nbformat_minor": 2
}
